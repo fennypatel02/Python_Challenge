{
 "cells": [
  {
   "cell_type": "code",
   "execution_count": 50,
   "id": "86933fd6-c592-4bd5-b611-87a2e8b308b5",
   "metadata": {},
   "outputs": [],
   "source": [
    "# --- import packages to read/write CSV files and create dynamic paths to the I/O files ---\n",
    "import csv\n",
    "import os"
   ]
  },
  {
   "cell_type": "code",
   "execution_count": 51,
   "id": "0cb7b343-a001-490a-bf6b-6aa6ba768dca",
   "metadata": {},
   "outputs": [],
   "source": [
    "# define function to fix percentage format to 3 decimal points\n",
    "# googled the command for the decimal point \n",
    "def fixPercent(num):\n",
    "    num = \"{:.3%}\".format(num)\n",
    "    return num"
   ]
  },
  {
   "cell_type": "code",
   "execution_count": 52,
   "id": "010408a1-7a21-4dfa-b612-9fce4dc1d52d",
   "metadata": {},
   "outputs": [],
   "source": []
  },
  {
   "cell_type": "code",
   "execution_count": 53,
   "id": "97417556-9589-4974-9547-4d1ae8b6ea64",
   "metadata": {},
   "outputs": [],
   "source": [
    "# create empty lists and variables for storing values and calculations from data\n",
    "UniqueCandidates = []\n",
    "VoteCounts = []\n",
    "VotePercent = []\n",
    "TotalVotes = 0\n",
    "WinnerCount = 0"
   ]
  },
  {
   "cell_type": "code",
   "execution_count": 56,
   "id": "d5310cde-b8bd-48b1-9568-447792332596",
   "metadata": {},
   "outputs": [
    {
     "ename": "ValueError",
     "evalue": "I/O operation on closed file.",
     "output_type": "error",
     "traceback": [
      "\u001b[0;31m---------------------------------------------------------------------------\u001b[0m",
      "\u001b[0;31mValueError\u001b[0m                                Traceback (most recent call last)",
      "\u001b[0;32m/var/folders/d4/zy88nmxn1ks2_csp8cshxcwm0000gn/T/ipykernel_1289/4236707682.py\u001b[0m in \u001b[0;36m<module>\u001b[0;34m\u001b[0m\n\u001b[1;32m     11\u001b[0m     \u001b[0;31m# for loop to go through each row in the CSV file and count the total number of votes\u001b[0m\u001b[0;34m\u001b[0m\u001b[0;34m\u001b[0m\u001b[0m\n\u001b[1;32m     12\u001b[0m \u001b[0;34m\u001b[0m\u001b[0m\n\u001b[0;32m---> 13\u001b[0;31m     \u001b[0;32mfor\u001b[0m \u001b[0mrow\u001b[0m \u001b[0;32min\u001b[0m \u001b[0mreader\u001b[0m\u001b[0;34m:\u001b[0m\u001b[0;34m\u001b[0m\u001b[0;34m\u001b[0m\u001b[0m\n\u001b[0m\u001b[1;32m     14\u001b[0m             \u001b[0mTotalVotes\u001b[0m \u001b[0;34m+=\u001b[0m \u001b[0;36m1\u001b[0m\u001b[0;34m\u001b[0m\u001b[0;34m\u001b[0m\u001b[0m\n\u001b[1;32m     15\u001b[0m \u001b[0;34m\u001b[0m\u001b[0m\n",
      "\u001b[0;31mValueError\u001b[0m: I/O operation on closed file."
     ]
    }
   ],
   "source": [
    "# Set path for file\n",
    "election_data = os.path.join(\"Resources\", \"election_data.csv\")\n",
    "\n",
    "# read the CSV file\n",
    "with open(election_data, 'r') as electiondata:\n",
    "    csv_reader = csv.reader(electiondata, delimiter=\",\")\n",
    "\n",
    "    # store header rows into a Headers list\n",
    "    Headers = next(csv_reader)\n",
    "    \n",
    "    # for loop to go through each row in the CSV file and count the total number of votes\n",
    "    \n",
    "    for row in reader:\n",
    "            TotalVotes += 1\n",
    "    \n",
    "    # get unique candidate names and individual vote counts\n",
    "            if row[2] not in UniqueCandidates:\n",
    "\n",
    "            #append the name to UniqueCandidates and a value of 1 to VoteCounts list\n",
    "                UniqueCandidates.append(row[2])\n",
    "                VoteCounts.append(1)\n",
    "\n",
    "            else:\n",
    "\n",
    "            # get the index of the candidate from the UniqueCandidates list in order to increase the vote count by 1\n",
    "                CandidateIndex = UniqueCandidates.index(row[2])\n",
    "                VoteCounts[CandidateIndex] += 1\n"
   ]
  },
  {
   "cell_type": "code",
   "execution_count": 57,
   "id": "49508509-0713-4e35-82ee-d0980d0ad883",
   "metadata": {},
   "outputs": [],
   "source": [
    "# --- calculate percentage of votes for each candidate ---\n",
    "for i in range(len(VoteCounts)):\n",
    "    VotePercent.append(VoteCounts[i] / TotalVotes)\n",
    "\n",
    "# --- calculate the winner based on most votes ---\n",
    "for i in range(len(VoteCounts)):\n",
    "\n",
    "    # if the number of votes is greater than WinnerCount (initially zero)\n",
    "    if VoteCounts[i] > WinnerCount:\n",
    "        \n",
    "        #update WinnerCount to the number of votes at index i\n",
    "        WinnerCount = VoteCounts[i]\n",
    "\n",
    "        #update Winner to the candidate name at index i\n",
    "        Winner = UniqueCandidates[i]\n"
   ]
  },
  {
   "cell_type": "code",
   "execution_count": 43,
   "id": "1399f6a9-ddcb-42f8-9a00-d9036520ae9f",
   "metadata": {},
   "outputs": [
    {
     "name": "stdout",
     "output_type": "stream",
     "text": [
      "Total Votes: 369711\n",
      "\n"
     ]
    }
   ],
   "source": [
    "print(f\"Total Votes: {TotalVotes}\\n\")"
   ]
  },
  {
   "cell_type": "code",
   "execution_count": 44,
   "id": "20fdcd92-c8c1-49cd-863a-d02dca42a12b",
   "metadata": {},
   "outputs": [
    {
     "name": "stdout",
     "output_type": "stream",
     "text": [
      "Charles Casper Stockham: 23.049% (85213)\n",
      "\n",
      "Diana DeGette: 73.812% (272892)\n",
      "\n",
      "Raymon Anthony Doane: 3.139% (11606)\n",
      "\n"
     ]
    }
   ],
   "source": [
    "for i in range(len(UniqueCandidates)):\n",
    "        print(f\"{UniqueCandidates[i]}: {fixPercent(VotePercent[i])} ({VoteCounts[i]})\\n\")"
   ]
  },
  {
   "cell_type": "code",
   "execution_count": 45,
   "id": "d522950b-ea39-408d-b715-c8189bc14e95",
   "metadata": {},
   "outputs": [
    {
     "name": "stdout",
     "output_type": "stream",
     "text": [
      "Winner: Diana DeGette\n",
      "\n"
     ]
    }
   ],
   "source": [
    "print(f\"Winner: {Winner}\\n\")"
   ]
  },
  {
   "cell_type": "code",
   "execution_count": null,
   "id": "affbf212-0a48-49e4-b89c-f50702a356b3",
   "metadata": {},
   "outputs": [],
   "source": [
    "#Election Results\n",
    "#-------------------------\n",
    "#Total Votes: 369711\n",
    "#-------------------------\n",
    "#Charles Casper Stockham: 23.049% (85213)\n",
    "#Diana DeGette: 73.812% (272892)\n",
    "#Raymon Anthony Doane: 3.139% (11606)\n",
    "#-------------------------\n",
    "#Winner: Diana DeGette\n",
    "#-------------------------\n"
   ]
  }
 ],
 "metadata": {
  "kernelspec": {
   "display_name": "Python 3 (ipykernel)",
   "language": "python",
   "name": "python3"
  },
  "language_info": {
   "codemirror_mode": {
    "name": "ipython",
    "version": 3
   },
   "file_extension": ".py",
   "mimetype": "text/x-python",
   "name": "python",
   "nbconvert_exporter": "python",
   "pygments_lexer": "ipython3",
   "version": "3.9.7"
  }
 },
 "nbformat": 4,
 "nbformat_minor": 5
}
