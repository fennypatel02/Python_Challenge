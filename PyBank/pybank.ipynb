{
 "cells": [
  {
   "cell_type": "code",
   "execution_count": 47,
   "id": "6ec7c1e4-ec91-4529-9d45-afd6c658fc77",
   "metadata": {},
   "outputs": [
    {
     "name": "stdout",
     "output_type": "stream",
     "text": [
      "Financial Analysis\n",
      "-----------------------------------\n",
      "Total months: 86\n",
      "Total: $22564198\n",
      "Average change: $-8311.11\n",
      "Greatest Increase in Profits: Aug-16 $(1862002)\n",
      "Greatest Decrease in Profits: Feb-14 $(-1825558)\n"
     ]
    }
   ],
   "source": [
    "# Import Dependencies\n",
    "import os\n",
    "import csv \n",
    "\n",
    "# Set path for file\n",
    "budget_data = os.path.join(\"Resources\", \"budget_data.csv\")\n",
    "\n",
    "#read the data from the file\n",
    "with open(budget_data, newline=\"\", encoding=\"utf-8\") as csvfile: \n",
    "    csv_reader = csv.reader(csvfile, delimiter=\",\")\n",
    "    csv_header = next(csvfile)\n",
    "    #print(f\" {csv_header}\")\n",
    "\n",
    "\n",
    "# find net amount of profit and loss\n",
    "    Profit = []\n",
    "    months = []\n",
    "\n",
    "# read each row of data after header\n",
    "    for rows in csv_reader:\n",
    "            Profit.append(int(rows[1]))\n",
    "            months.append(rows[0])\n",
    "\n",
    "    # find revenue change\n",
    "    average_change =[]\n",
    "\n",
    "    for row in range(1, len(Profit)):\n",
    "        average_change.append((int(Profit[row]) - int(Profit[row-1])))\n",
    "        \n",
    "   # calculate total length of months\n",
    "    total_months = len(months)\n",
    "    \n",
    "    # calculate average revenue change\n",
    "    revenue_average_change = sum(average_change) / len(average_change)\n",
    "    revenue_average = round(revenue_average_change, 2)\n",
    "    \n",
    "    # greatest increase in revenue\n",
    "    greatest_increase = max(average_change)\n",
    "    #greatest decrease in revenue\n",
    "    greatest_decrease = min(average_change)\n",
    "    \n",
    "    #greatest increse in month\n",
    "    greatest_increase_month = months[average_change.index(max(average_change))+1]\n",
    "    greatest_decrease_month = months[average_change.index(min(average_change))+1]\n",
    "\n",
    "        \n",
    "#output requireed\n",
    "print(\"Financial Analysis\")\n",
    "print(\"-----------------------------------\")\n",
    "print(\"Total months: \" + str(total_months))\n",
    "print(\"Total: $\" + str(sum(Profit)))\n",
    "print(\"Average change: $\" + str(revenue_average))\n",
    "print(f\"Greatest Increase in Profits: {str(greatest_increase_month)} $({str(greatest_increase)})\")\n",
    "print(f\"Greatest Decrease in Profits: {str(greatest_decrease_month)} $({str(greatest_decrease)})\")\n",
    "\n"
   ]
  },
  {
   "cell_type": "code",
   "execution_count": null,
   "id": "96d62a15-4fd5-4e46-ac2c-03b33507f903",
   "metadata": {},
   "outputs": [],
   "source": [
    "#set the output of the text file\n",
    "text_path = \"output.txt\""
   ]
  },
  {
   "cell_type": "code",
   "execution_count": 21,
   "id": "5da5a865-cbdb-4ca5-83ef-bf4241aa7199",
   "metadata": {},
   "outputs": [],
   "source": []
  },
  {
   "cell_type": "code",
   "execution_count": null,
   "id": "29a79a23",
   "metadata": {},
   "outputs": [],
   "source": []
  },
  {
   "cell_type": "code",
   "execution_count": null,
   "id": "07cf9993-dca9-4fc7-aec3-771233a27d2e",
   "metadata": {},
   "outputs": [],
   "source": [
    "    \n",
    "   "
   ]
  },
  {
   "cell_type": "code",
   "execution_count": null,
   "id": "73aa7127-2de0-4921-b344-9ac986f73a8b",
   "metadata": {},
   "outputs": [],
   "source": []
  }
 ],
 "metadata": {
  "kernelspec": {
   "display_name": "Python 3 (ipykernel)",
   "language": "python",
   "name": "python3"
  },
  "language_info": {
   "codemirror_mode": {
    "name": "ipython",
    "version": 3
   },
   "file_extension": ".py",
   "mimetype": "text/x-python",
   "name": "python",
   "nbconvert_exporter": "python",
   "pygments_lexer": "ipython3",
   "version": "3.9.7"
  }
 },
 "nbformat": 4,
 "nbformat_minor": 5
}
